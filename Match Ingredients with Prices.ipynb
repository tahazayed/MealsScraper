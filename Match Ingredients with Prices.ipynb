{
 "cells": [
  {
   "cell_type": "code",
   "execution_count": null,
   "metadata": {
    "collapsed": false,
    "deletable": true,
    "editable": true
   },
   "outputs": [],
   "source": [
    "# -*- coding: utf-8-sig -*-\n",
    "import pandas as pd \n",
    "import numpy as np \n",
    "import re\n",
    "\n",
    "pattern = re.compile('[\\u0627-\\u064a]')\n",
    "recipes = pd.read_json('test1000.json',encoding=\"utf-8-sig\")\n",
    "\n",
    "\n",
    "### extract names from ingredients\n",
    "ingrdsCorpus = []\n",
    "for ingrds in recipes[\"ingrd\"]:\n",
    "    for ingrd in ingrds:\n",
    "        ingrdTxt = ingrd[\"n\"].replace('/',' ').replace('(',' ').replace(')',' ')\n",
    "        for comp in ingrdTxt.split():\n",
    "            if pattern.match(comp) != None:\n",
    "                ingrdsCorpus.append(comp)\n",
    "        del ingrdTxt \n",
    "        \n",
    "del recipes\n",
    "\n",
    "ingrdsCorpus = (set(ingrdsCorpus))\n",
    "\n",
    "\n",
    "\n",
    "### extract names from prices\n",
    "prices = pd.read_csv('data.csv',encoding=\"utf-8-sig\")\n",
    "\n",
    "ItemCorpus = []\n",
    "for item in prices[\"n\"]:\n",
    "    item = item.replace('/',' ').replace('(',' ').replace(')',' ')\n",
    "    for comp in item.split():\n",
    "        if pattern.match(comp) != None:\n",
    "            ItemCorpus.append(comp)\n",
    "\n",
    "    del item  \n",
    "    \n",
    "del prices            \n",
    "ItemCorpus = (set(ItemCorpus))\n",
    "\n",
    "names = []\n",
    "for i in ingrdsCorpus:\n",
    "    if i in ItemCorpus:\n",
    "        names.append(i) \n",
    "names=list(set(names))\n",
    "\n",
    "print (names)\n",
    "\n",
    "del ItemCorpus,ingrdsCorpus,names"
   ]
  },
  {
   "cell_type": "code",
   "execution_count": null,
   "metadata": {
    "collapsed": false,
    "deletable": true,
    "editable": true
   },
   "outputs": [],
   "source": []
  },
  {
   "cell_type": "code",
   "execution_count": null,
   "metadata": {
    "collapsed": true,
    "deletable": true,
    "editable": true
   },
   "outputs": [],
   "source": []
  }
 ],
 "metadata": {
  "kernelspec": {
   "display_name": "Python 3",
   "language": "python",
   "name": "python3"
  },
  "language_info": {
   "codemirror_mode": {
    "name": "ipython",
    "version": 3
   },
   "file_extension": ".py",
   "mimetype": "text/x-python",
   "name": "python",
   "nbconvert_exporter": "python",
   "pygments_lexer": "ipython3",
   "version": "3.6.0"
  }
 },
 "nbformat": 4,
 "nbformat_minor": 2
}
