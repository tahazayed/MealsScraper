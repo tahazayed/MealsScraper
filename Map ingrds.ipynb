{
 "cells": [
  {
   "cell_type": "code",
   "execution_count": 1,
   "metadata": {
    "collapsed": false,
    "deletable": true,
    "editable": true
   },
   "outputs": [],
   "source": [
    "# -*- coding: utf-8 -*-\n",
    "\n",
    "import pandas as pd\n",
    "from pymongo import MongoClient\n",
    "\n",
    "\n",
    "def _connect_mongo(host, port, username, password, db):\n",
    "    \"\"\" A util for making a connection to mongo \"\"\"\n",
    "\n",
    "    if username and password:\n",
    "        mongo_uri = 'mongodb://%s:%s@%s:%s/%s' % (username, password, host, port, db)\n",
    "        conn = MongoClient(mongo_uri)\n",
    "    else:\n",
    "        conn = MongoClient(host, port)\n",
    "\n",
    "\n",
    "    return conn[db]\n",
    "\n",
    "\n",
    "def read_mongo(db, collection, query={}, host='localhost', port=27017, username=None, password=None, no_id=True,projection=None,distinct=None):\n",
    "    \"\"\" Read from Mongo and Store into DataFrame \"\"\"\n",
    "\n",
    "    # Connect to MongoDB\n",
    "    db = _connect_mongo(host=host, port=port, username=username, password=password, db=db)\n",
    "    if projection == None:\n",
    "        if distinct == None:\n",
    "            cursor = db[collection].find(query)\n",
    "        else:\n",
    "            cursor = db[collection].find(query).distinct(distinct)\n",
    "        \n",
    "    elif projection != None and distinct == None:\n",
    "        cursor = db[collection].find(query, projection)\n",
    "        \n",
    "    elif projection != None and distinct != None:\n",
    "        cursor = db[collection].find(query, projection).distinct(distinct)\n",
    "        \n",
    "    # Expand the cursor and construct the DataFrame\n",
    "    df =  pd.DataFrame(list(cursor))\n",
    "\n",
    "    # Delete the _id\n",
    "    if no_id:\n",
    "        try:\n",
    "            del df['_id']\n",
    "        except:\n",
    "            pass\n",
    "\n",
    "    return df\n",
    "\n"
   ]
  },
  {
   "cell_type": "code",
   "execution_count": 2,
   "metadata": {
    "collapsed": false,
    "deletable": true,
    "editable": true
   },
   "outputs": [],
   "source": [
    "dfPrices=read_mongo(db=\"meals\",collection=\"prices\",username=\"website\",password=\"Don'tLogin\",distinct=\"n\"\\\n",
    "                    ,projection={\"n\":True},no_id=True)"
   ]
  },
  {
   "cell_type": "code",
   "execution_count": 3,
   "metadata": {
    "collapsed": false,
    "deletable": true,
    "editable": true
   },
   "outputs": [],
   "source": [
    "dfRecipes=read_mongo(db=\"meals\",collection=\"recipes\",projection={\"_id\":True,\"ingrd.n\":True},username=\"website\",password=\"Don'tLogin\",no_id=False)"
   ]
  },
  {
   "cell_type": "code",
   "execution_count": null,
   "metadata": {
    "collapsed": false
   },
   "outputs": [],
   "source": []
  },
  {
   "cell_type": "code",
   "execution_count": 4,
   "metadata": {
    "collapsed": false,
    "deletable": true,
    "editable": true
   },
   "outputs": [],
   "source": [
    "#dfPrices.to_csv('data.csv',index=False,encoding=\"utf-8-sig\")"
   ]
  },
  {
   "cell_type": "code",
   "execution_count": 5,
   "metadata": {
    "collapsed": false,
    "deletable": true,
    "editable": true
   },
   "outputs": [],
   "source": [
    "from ArabicIngredientsStemmer import ArabicIngredientsStemmer"
   ]
  },
  {
   "cell_type": "code",
   "execution_count": 6,
   "metadata": {
    "collapsed": false,
    "deletable": true,
    "editable": true
   },
   "outputs": [],
   "source": [
    "Stemmer = ArabicIngredientsStemmer(dfPrices[0])"
   ]
  },
  {
   "cell_type": "code",
   "execution_count": 7,
   "metadata": {
    "collapsed": false
   },
   "outputs": [],
   "source": [
    "ingrdsCorpus=Stemmer.extractNamesIngredients(dfRecipes[:100])"
   ]
  },
  {
   "cell_type": "code",
   "execution_count": 8,
   "metadata": {
    "collapsed": false
   },
   "outputs": [],
   "source": [
    "results = Stemmer.machIngredItmPrice(ingrdsCorpus)"
   ]
  },
  {
   "cell_type": "code",
   "execution_count": 9,
   "metadata": {
    "collapsed": false
   },
   "outputs": [
    {
     "data": {
      "text/plain": [
       "['لبن كامل الدسم(معبأ-جهينه - ساده)1 لتر',\n",
       " 'زيت عباد الشمس سلايت',\n",
       " 'موز بلدي',\n",
       " 'الأرز',\n",
       " 'فلفل رومي',\n",
       " 'سمك فيليه بلطي',\n",
       " 'كيوي (كرتونة)',\n",
       " 'عدس أصفر',\n",
       " 'تفاح جولدن',\n",
       " 'سمك مكرونة خليجي',\n",
       " 'سمك قشر بياض',\n",
       " 'بيض بلدى',\n",
       " 'الليمون بلدي',\n",
       " 'البصل الأحمر',\n",
       " 'تفاح سوري/لبناني',\n",
       " 'بسلة',\n",
       " 'مكرونه ستار 400 جم',\n",
       " 'الجبن الأبيض',\n",
       " 'بلح أحمر',\n",
       " 'أرز غير مقشور',\n",
       " 'جزر اصفر (بعرش)',\n",
       " 'بقدونس (رابطة100حزمة)',\n",
       " 'دقيق  (سائب)',\n",
       " 'أرز زمزم',\n",
       " 'لحم كندوز كبير',\n",
       " 'كاكا',\n",
       " 'جبنه بيضاء ( ثلاجة) 1 كجم',\n",
       " 'الذرة البيضاء',\n",
       " 'زيت الذرة',\n",
       " 'سكر زمزم',\n",
       " 'لبن سائب',\n",
       " 'المكرونة',\n",
       " 'مكرونة روجينا 400 جم',\n",
       " 'لحم البتلو',\n",
       " 'برتقال بلدى',\n",
       " 'شاى ليبتون 40 جم',\n",
       " 'السكر',\n",
       " 'أرز  (سائب)',\n",
       " 'ماشية حية - كندوز كبير',\n",
       " 'الطماطم',\n",
       " 'باذنجان عروس',\n",
       " 'ورق عنب بلدى',\n",
       " 'الدواجن البيضاء',\n",
       " 'أرز  الدوحة',\n",
       " 'بصل أخضر (رابطة 100 واحدة)',\n",
       " 'زيت الذرة كريستال',\n",
       " 'جزر اصفر',\n",
       " 'رمان',\n",
       " 'لبن مجفف(بودرة - نيدو)  400جم',\n",
       " 'باذنجان رومى',\n",
       " 'ماشية حية - كندوز صغير',\n",
       " 'موز وليم',\n",
       " 'مكرونة معبأة  استثمارى',\n",
       " 'اللبن المعبأ',\n",
       " 'الدواجن البلدى',\n",
       " 'الدقيق',\n",
       " 'تفاح محلي',\n",
       " 'فول أخضر',\n",
       " 'لحم بتلو بعظم',\n",
       " 'سلق (رابطة 100 واحدة)',\n",
       " 'بطاطا',\n",
       " 'سكر  (معبأ ق.ع )',\n",
       " 'زيتون',\n",
       " 'برتقال صيفي',\n",
       " 'شاى العروسه 40جم',\n",
       " 'أناناس',\n",
       " 'كمثرى بلدي',\n",
       " 'البصل الأبيض',\n",
       " 'تفاح أمريكي',\n",
       " 'البطاطس',\n",
       " 'باذنجان أبيض',\n",
       " 'فلفل (حامي)',\n",
       " 'خيار',\n",
       " 'أعلاف الماشية - دشيش بيضاء',\n",
       " 'الجبن الرومى',\n",
       " 'مكرونة سائبة',\n",
       " 'خس (رابطة 8 وحدات)',\n",
       " 'فراولة',\n",
       " 'لحم الضأن',\n",
       " 'لحم الكندوز',\n",
       " 'بيض أحمر',\n",
       " 'بيض أبيض',\n",
       " 'خيار صوب',\n",
       " 'سمك بلطي صغير',\n",
       " 'دواجن بيضاء مبردة',\n",
       " 'العدس',\n",
       " 'القمح محلى',\n",
       " 'برتقال سكرى',\n",
       " 'الشاى',\n",
       " 'لحم ضآن بعظم',\n",
       " 'القطن المحلى',\n",
       " 'ليمون أضاليا',\n",
       " 'لبن كامل الدسم(معبأ-انجوى- ساده)',\n",
       " 'بنجر بالكيلو',\n",
       " 'مكرونة المصرية',\n",
       " 'دواجن بلدى مبردة',\n",
       " 'سمك مكرونة سويسي',\n",
       " 'مانجو سكرى بلدي',\n",
       " 'سكر البلورة',\n",
       " 'جبنه شيدر (1كجم)',\n",
       " 'برتقال أبو صرة',\n",
       " 'جرجير(رابطة 100 حزمة)',\n",
       " 'جبنه بيضاء( اسطنبولى) 1كجم',\n",
       " 'أرز السوهاجي',\n",
       " 'زيت عباد الشمس وأصناف أخرى(1 لتر )',\n",
       " 'شاى(ليبتون)',\n",
       " 'كسبرة (رابطة 100 واحدة)',\n",
       " 'سكر الدوحه',\n",
       " 'لحم كندوز صغير',\n",
       " 'جمبرى (صغير)',\n",
       " 'فاصوليا خضراء',\n",
       " 'العدس  (مجروش)']"
      ]
     },
     "execution_count": 9,
     "metadata": {},
     "output_type": "execute_result"
    }
   ],
   "source": [
    "results"
   ]
  },
  {
   "cell_type": "code",
   "execution_count": null,
   "metadata": {
    "collapsed": true
   },
   "outputs": [],
   "source": []
  }
 ],
 "metadata": {
  "kernelspec": {
   "display_name": "Python 3",
   "language": "python",
   "name": "python3"
  },
  "language_info": {
   "codemirror_mode": {
    "name": "ipython",
    "version": 3
   },
   "file_extension": ".py",
   "mimetype": "text/x-python",
   "name": "python",
   "nbconvert_exporter": "python",
   "pygments_lexer": "ipython3",
   "version": "3.6.0"
  }
 },
 "nbformat": 4,
 "nbformat_minor": 2
}
