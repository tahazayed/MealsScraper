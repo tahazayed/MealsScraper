{
 "cells": [
  {
   "cell_type": "code",
   "execution_count": 1,
   "metadata": {
    "collapsed": false,
    "deletable": true,
    "editable": true
   },
   "outputs": [],
   "source": [
    "import warnings\n",
    "import sys\n",
    "import requests\n",
    "from io import StringIO, BytesIO\n",
    "import re\n",
    "from six import u\n",
    "from bs4 import BeautifulSoup\n",
    "import json\n",
    "import pandas as pd\n",
    "import gc\n",
    "\n",
    "\n",
    "from datetime import datetime\n",
    "warnings.filterwarnings(\"ignore\")\n",
    "today = datetime.utcnow().isoformat()\n"
   ]
  },
  {
   "cell_type": "code",
   "execution_count": 2,
   "metadata": {
    "collapsed": false,
    "deletable": true,
    "editable": true
   },
   "outputs": [],
   "source": [
    "requestSession = requests.Session()\n",
    "headers = {\n",
    "    'User-Agent': 'Mozilla/5.0 (Windows NT 10.0; Win64; x64) AppleWebKit/537.36 (KHTML, like Gecko) Chrome/57.0.2987.133 Safari/537.36',\n",
    "    'Referer': 'https://cookpad.com/eg/%D9%88%D8%B5%D9%81%D8%A7%D8%AA',\n",
    "    'Turbolinks-Referrer': 'https://cookpad.com/eg/%D9%88%D8%B5%D9%81%D8%A7%D8%AA',\n",
    "    'X-Turbolinks-Request': 'true',\n",
    "    'Accept': 'text/html, application/xhtml+xml',\n",
    "    'Accept-Encoding': 'gzip, deflate, sdch, br',\n",
    "    'Accept-Language': 'en-US,en;q=0.8,ar;q=0.6'\n",
    "    }\n",
    "def spider(url):\n",
    "   \n",
    "    r = requestSession.get(url=url, headers=headers, verify=False, timeout=(3.05, 27))\n",
    "    r.raise_for_status()\n",
    "    \n",
    "    page = r.text\n",
    "-\n",
    "def saveToFile(data,fileName):\n",
    "    with open(fileName, 'w', encoding=\"utf-8\") as fo:\n",
    "        json.dump(data, fo, ensure_ascii=False)\n",
    "        fo.flush()\n",
    "\n",
    "    "
   ]
  },
  {
   "cell_type": "code",
   "execution_count": 3,
   "metadata": {
    "collapsed": false,
    "deletable": true,
    "editable": true
   },
   "outputs": [
    {
     "name": "stdout",
     "output_type": "stream",
     "text": [
      "2\n",
      "2\n",
      "2802\n"
     ]
    }
   ],
   "source": [
    "counter = 1\n",
    "data=[]\n",
    "\n",
    "with open(\"links.txt\") as f:\n",
    "    for line in f:\n",
    "        try:\n",
    "            #print('{}:{}'.format(counter, line))\n",
    "            data.append(spider(line))\n",
    "            counter = counter + 1\n",
    "            print(counter)\n",
    "            if(counter % 1000 == 0):\n",
    "                print(counter)\n",
    "                saveToFile(data, 'output/test{}{}.json'.format(counter, datetime.now().strftime(\"%Y%m%d-%H%M%S\")))\n",
    "                del data [:]\n",
    "                print(gc.collect())\n",
    "        except:\n",
    "            print (\"Unexpected error:\", sys.exc_info())\n",
    "            counter = counter - 1\n",
    "            continue\n",
    "    print(counter)\n",
    "    saveToFile(data, 'output/test{}{}.json'.format(counter, datetime.now().strftime(\"%Y%m%d-%H%M%S\")))\n",
    "    del data [:]\n",
    "    print(gc.collect())            \n",
    "        \n",
    "          \n"
   ]
  },
  {
   "cell_type": "code",
   "execution_count": null,
   "metadata": {
    "collapsed": true,
    "deletable": true,
    "editable": true
   },
   "outputs": [],
   "source": []
  },
  {
   "cell_type": "code",
   "execution_count": null,
   "metadata": {
    "collapsed": true,
    "deletable": true,
    "editable": true
   },
   "outputs": [],
   "source": []
  }
 ],
 "metadata": {
  "kernelspec": {
   "display_name": "Python 3",
   "language": "python",
   "name": "python3"
  },
  "language_info": {
   "codemirror_mode": {
    "name": "ipython",
    "version": 3
   },
   "file_extension": ".py",
   "mimetype": "text/x-python",
   "name": "python",
   "nbconvert_exporter": "python",
   "pygments_lexer": "ipython3",
   "version": "3.6.0"
  }
 },
 "nbformat": 4,
 "nbformat_minor": 2
}
