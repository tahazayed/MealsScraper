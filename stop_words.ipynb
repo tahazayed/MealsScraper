{
 "cells": [
  {
   "cell_type": "code",
   "execution_count": 1,
   "metadata": {
    "collapsed": true,
    "deletable": true,
    "editable": true
   },
   "outputs": [],
   "source": [
    "from collections import defaultdict,Counter\n",
    "from bs4 import BeautifulSoup as bs\n",
    "import requests as r"
   ]
  },
  {
   "cell_type": "code",
   "execution_count": 3,
   "metadata": {
    "collapsed": false,
    "deletable": true,
    "editable": true
   },
   "outputs": [],
   "source": [
    "with open('arabic_corb.txt', 'r',encoding=\"utf-8-sig\") as f:\n",
    "    d = f.read()"
   ]
  },
  {
   "cell_type": "code",
   "execution_count": null,
   "metadata": {
    "collapsed": true
   },
   "outputs": [],
   "source": []
  },
  {
   "cell_type": "code",
   "execution_count": 4,
   "metadata": {
    "collapsed": false,
    "deletable": true,
    "editable": true
   },
   "outputs": [],
   "source": [
    "words = d.split(' ')"
   ]
  },
  {
   "cell_type": "code",
   "execution_count": 5,
   "metadata": {
    "collapsed": true,
    "deletable": true,
    "editable": true
   },
   "outputs": [],
   "source": [
    "from collections import defaultdict\n",
    "fq= defaultdict( int )\n",
    "for w in words:\n",
    "    fq[w] += 1"
   ]
  },
  {
   "cell_type": "code",
   "execution_count": 6,
   "metadata": {
    "collapsed": false,
    "deletable": true,
    "editable": true
   },
   "outputs": [],
   "source": [
    "import pandas as pd \n",
    "\n",
    "df = pd.DataFrame(dict(fq),index=[0])"
   ]
  },
  {
   "cell_type": "code",
   "execution_count": 7,
   "metadata": {
    "collapsed": false,
    "deletable": true,
    "editable": true
   },
   "outputs": [],
   "source": [
    "df  =df.T"
   ]
  },
  {
   "cell_type": "code",
   "execution_count": 8,
   "metadata": {
    "collapsed": false,
    "deletable": true,
    "editable": true
   },
   "outputs": [],
   "source": [
    "df.columns = ['tf']"
   ]
  },
  {
   "cell_type": "code",
   "execution_count": 9,
   "metadata": {
    "collapsed": false,
    "deletable": true,
    "editable": true
   },
   "outputs": [
    {
     "data": {
      "text/plain": [
       "Index(['في', 'من', 'على', 'إلى', 'يوم', 'عن', 'كما', 'السوري', 'مدينة', 'أن',\n",
       "       'الأمن', 'الجيش', 'التي', 'خلال', '-', 'سوريا', 'ما', 'وفي', 'مع',\n",
       "       'درعا', 'مبارك', 'حمص', 'السورية', 'دمشق', 'فقد', 'وقد', 'الرئيس',\n",
       "       'اليوم', 'هذه', 'بعد', 'مظاهرات', 'الزور', 'حي', 'بين', 'قتلى', 'فيها',\n",
       "       'المدينة', 'بعض', 'ذلك', 'خرجت', 'النظام', 'عام', 'قوات', 'الأسد',\n",
       "       'ريف', 'حماة', 'الذي', 'أخرى', 'حيث', 'قبل', '2011', 'عدد', 'إطلاق',\n",
       "       'دير', 'أو', 'النار', 'منها', 'قتيلاً', 'شخص', '3', 'اعتقالات', 'تموز',\n",
       "       'حين', '·', 'بشار', '«جمعة', 'أنحاء', 'يناير', 'أما', 'لا', 'نار',\n",
       "       'عدة', 'و1', 'معَ', 'قد', 'حسني', 'أيضاً', 'منذ', 'أكتوبر', 'منطقة',\n",
       "       'حوالي', 'الإنسان', 'كان', 'رئيس', 'بلدة', 'لكن', 'هذا', 'فبراير',\n",
       "       'محمد', 'فيما', 'بأن', 'جميع', 'مما', 'بعدَ', 'تم', 'الاحتجاجات',\n",
       "       'الأحد', '5', 'مصر', 'مارس'],\n",
       "      dtype='object')"
      ]
     },
     "execution_count": 9,
     "metadata": {},
     "output_type": "execute_result"
    }
   ],
   "source": [
    "df.tf.sort_values(ascending=False).index[:100]"
   ]
  },
  {
   "cell_type": "code",
   "execution_count": null,
   "metadata": {
    "collapsed": true,
    "deletable": true,
    "editable": true
   },
   "outputs": [],
   "source": []
  },
  {
   "cell_type": "code",
   "execution_count": null,
   "metadata": {
    "collapsed": true
   },
   "outputs": [],
   "source": []
  }
 ],
 "metadata": {
  "kernelspec": {
   "display_name": "Python 3",
   "language": "python",
   "name": "python3"
  },
  "language_info": {
   "codemirror_mode": {
    "name": "ipython",
    "version": 3
   },
   "file_extension": ".py",
   "mimetype": "text/x-python",
   "name": "python",
   "nbconvert_exporter": "python",
   "pygments_lexer": "ipython3",
   "version": "3.6.0"
  }
 },
 "nbformat": 4,
 "nbformat_minor": 2
}
