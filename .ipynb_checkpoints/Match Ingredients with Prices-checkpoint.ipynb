{
 "cells": [
  {
   "cell_type": "code",
   "execution_count": 85,
   "metadata": {
    "collapsed": false,
    "deletable": true,
    "editable": true
   },
   "outputs": [
    {
     "name": "stdout",
     "output_type": "stream",
     "text": [
      "['كسبرة', 'شيدر', 'رمان', 'أرز', 'الطماطم', 'ذرة', 'الذرة', 'مغربي', 'جبنه', 'جوز', 'هند', 'البيضاء', 'جزر', 'القمح', 'أسود', 'أناناس', 'كبير', 'واحدة', 'بلدي', 'بطاطا', 'الدسم', 'سلق', 'خوخ', 'الذهبية', 'فلفل', 'اللبن', 'أخضر', 'موز', 'وحدات', 'سكر', 'بسلة', 'لباني', 'الفول', 'مكرونه', 'رومى', 'الأرز', 'صفراء', 'جم', 'بصل', 'بنجر', 'مقشور', 'بلح', 'لحم', 'بقدونس', 'لتر', 'بقري', 'مجروش', 'ليمون', 'جرجير', 'عجوة', 'فراولة', 'بيض', 'السكر', 'قشر', 'فول', 'شبت', 'سبانخ', 'جوافة', 'مجفف', 'كرفس', 'نيدو', 'بودرة', 'ساده', 'الثوم', 'خس', 'بتلو', 'الدقيق', 'سمك', 'رومي', 'زيت', 'خيار', 'حزمة', 'المكرونة', 'كريستال', 'كجم', 'زيتون', 'الجبن', 'صغير', 'لبن', 'خضراء', 'وسط', 'غير', 'لبناني', 'قرش', 'مانجو', 'مجمد', 'أحمر', 'مكرونة', 'بلطى', 'أصفر', 'جمبرى', 'دقيق', 'اصفر', 'ورق', 'حامي', 'قرنبيط', 'بياض', 'الليمون', 'البطاطس', 'تفاح', 'كوسة', 'كيوي', '8', '-', 'متوسط', 'برتقال', '100', 'الشمس', 'عدس', 'محلى', '1', 'صحيح', 'فاصوليا', 'قاروص', 'أبيض', 'كامل', 'باذنجان', 'فيليه', 'البصل', 'بيضاء', 'عنب', '400', 'بلدى']\n"
     ]
    }
   ],
   "source": [
    "# -*- coding: utf-8-sig -*-\n",
    "import pandas as pd \n",
    "import numpy as np \n",
    "import re\n",
    "\n",
    "recipes = pd.read_json('test1000.json',encoding=\"utf-8-sig\")\n",
    "\n",
    "\n",
    "### extract names from ingredients\n",
    "ingrdsCorpus = []\n",
    "for ingrds in recipes[\"ingrd\"]:\n",
    "    for ingrd in ingrds:\n",
    "        ingrdTxt = ingrd[\"n\"].replace('/',' ').replace('(',' ').replace(')',' ')\n",
    "        for comp in ingrdTxt.split():\n",
    "            ingrdsCorpus.append(comp)\n",
    "        del ingrdTxt    \n",
    "del recipes\n",
    "\n",
    "ingrdsCorpus = (set(ingrdsCorpus))\n",
    "\n",
    "\n",
    "\n",
    "### extract names from prices\n",
    "prices = pd.read_csv('data.csv',encoding=\"utf-8-sig\")\n",
    "\n",
    "ItemCorpus = []\n",
    "for item in prices[\"n\"]:\n",
    "    item = item.replace('/',' ').replace('(',' ').replace(')',' ')\n",
    "    for comp in item.split():\n",
    "        ItemCorpus.append(comp)\n",
    "    del item    \n",
    "del prices            \n",
    "ItemCorpus = (set(ItemCorpus))\n",
    "\n",
    "names = []\n",
    "for i in ingrdsCorpus:\n",
    "    if i in ItemCorpus:\n",
    "        names.append(i) \n",
    "names=list(set(names))\n",
    "\n",
    "print (names)\n",
    "\n",
    "del ItemCorpus,ingrdsCorpus,names"
   ]
  },
  {
   "cell_type": "code",
   "execution_count": null,
   "metadata": {
    "collapsed": false,
    "deletable": true,
    "editable": true
   },
   "outputs": [],
   "source": []
  },
  {
   "cell_type": "code",
   "execution_count": null,
   "metadata": {
    "collapsed": true
   },
   "outputs": [],
   "source": []
  }
 ],
 "metadata": {
  "kernelspec": {
   "display_name": "Python 3",
   "language": "python",
   "name": "python3"
  },
  "language_info": {
   "codemirror_mode": {
    "name": "ipython",
    "version": 3
   },
   "file_extension": ".py",
   "mimetype": "text/x-python",
   "name": "python",
   "nbconvert_exporter": "python",
   "pygments_lexer": "ipython3",
   "version": "3.6.0"
  }
 },
 "nbformat": 4,
 "nbformat_minor": 2
}
